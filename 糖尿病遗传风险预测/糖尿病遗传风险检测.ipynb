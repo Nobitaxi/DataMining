{
 "cells": [
  {
   "cell_type": "markdown",
   "id": "57c1ed6e",
   "metadata": {},
   "source": [
    "数据特征如下："
   ]
  },
  {
   "cell_type": "markdown",
   "id": "9d2abf51",
   "metadata": {},
   "source": [
    "**Attribute** | **Definition**\n",
    "--- | ---\n",
    "编号 | 标识个体身份的数字\n",
    "性别 | 1表示男性，0表示女性\n",
    "出生年份| 出生年份\n",
    "体重指数 | (体重)/(身高的平方),kg/m^2\n",
    "糖尿病家族史 | 标识糖尿病的遗传特性，记录家族里面患有糖尿病的家属，分成三种标识，分别是父母有一方患有糖尿病、叔叔或者姑姑有一方患有糖尿病、无记录\n",
    "舒张压 | 心脏舒张时，动脉血管弹性回缩时，产生的压力称为舒张压，单位mmHg\n",
    "口服耐糖量测试 | 诊断糖尿病的一种实验室检查方法，采用120分钟耐糖测试后的血糖值，单位mmol/L\n",
    "胰岛素释放实验 | 空腹时定量口服葡萄糖刺激胰岛β细胞释放胰岛素，采用服糖后120分钟的血浆胰岛素水平，单位pmol/L\n",
    "肱三头肌皮褶厚度 | 在右上臂后面肩峰与鹰嘴连线的重点处，夹取与上肢长轴平行的皮褶，纵向测量，单位mm\n",
    "患有糖尿病标识 | 1表示患有糖尿病，0表示未患有糖尿病"
   ]
  },
  {
   "cell_type": "code",
   "execution_count": 1,
   "id": "78ea532f",
   "metadata": {},
   "outputs": [
    {
     "name": "stdout",
     "output_type": "stream",
     "text": [
      "训练数据集： (5070, 10) 测试数据集 (4000, 9)\n"
     ]
    }
   ],
   "source": [
    "import pandas as pd\n",
    "# 导入训练数据集及测试数据集\n",
    "train_data = pd.read_csv('E:/DocumentFile/data/糖尿病遗传风险预测挑战赛公开数据/比赛训练集.csv')\n",
    "test_data = pd.read_csv('E:/DocumentFile/data/糖尿病遗传风险预测挑战赛公开数据/糖尿病遗传风险预测挑战赛b榜新数据集.csv')\n",
    "print(\"训练数据集：\", train_data.shape, \"测试数据集\", test_data.shape)"
   ]
  },
  {
   "cell_type": "code",
   "execution_count": 2,
   "id": "d69293e0",
   "metadata": {},
   "outputs": [
    {
     "data": {
      "text/html": [
       "<div>\n",
       "<style scoped>\n",
       "    .dataframe tbody tr th:only-of-type {\n",
       "        vertical-align: middle;\n",
       "    }\n",
       "\n",
       "    .dataframe tbody tr th {\n",
       "        vertical-align: top;\n",
       "    }\n",
       "\n",
       "    .dataframe thead th {\n",
       "        text-align: right;\n",
       "    }\n",
       "</style>\n",
       "<table border=\"1\" class=\"dataframe\">\n",
       "  <thead>\n",
       "    <tr style=\"text-align: right;\">\n",
       "      <th></th>\n",
       "      <th>编号</th>\n",
       "      <th>性别</th>\n",
       "      <th>出生年份</th>\n",
       "      <th>体重指数</th>\n",
       "      <th>糖尿病家族史</th>\n",
       "      <th>舒张压</th>\n",
       "      <th>口服耐糖量测试</th>\n",
       "      <th>胰岛素释放实验</th>\n",
       "      <th>肱三头肌皮褶厚度</th>\n",
       "      <th>患有糖尿病标识</th>\n",
       "    </tr>\n",
       "  </thead>\n",
       "  <tbody>\n",
       "    <tr>\n",
       "      <th>0</th>\n",
       "      <td>1</td>\n",
       "      <td>0</td>\n",
       "      <td>1996</td>\n",
       "      <td>30.1</td>\n",
       "      <td>无记录</td>\n",
       "      <td>106.0</td>\n",
       "      <td>3.818</td>\n",
       "      <td>7.89</td>\n",
       "      <td>0.0</td>\n",
       "      <td>0</td>\n",
       "    </tr>\n",
       "    <tr>\n",
       "      <th>1</th>\n",
       "      <td>2</td>\n",
       "      <td>0</td>\n",
       "      <td>1988</td>\n",
       "      <td>27.5</td>\n",
       "      <td>无记录</td>\n",
       "      <td>84.0</td>\n",
       "      <td>-1.000</td>\n",
       "      <td>0.00</td>\n",
       "      <td>14.7</td>\n",
       "      <td>0</td>\n",
       "    </tr>\n",
       "    <tr>\n",
       "      <th>2</th>\n",
       "      <td>3</td>\n",
       "      <td>1</td>\n",
       "      <td>1988</td>\n",
       "      <td>36.5</td>\n",
       "      <td>无记录</td>\n",
       "      <td>85.0</td>\n",
       "      <td>7.131</td>\n",
       "      <td>0.00</td>\n",
       "      <td>40.1</td>\n",
       "      <td>1</td>\n",
       "    </tr>\n",
       "    <tr>\n",
       "      <th>3</th>\n",
       "      <td>4</td>\n",
       "      <td>1</td>\n",
       "      <td>1992</td>\n",
       "      <td>29.5</td>\n",
       "      <td>无记录</td>\n",
       "      <td>91.0</td>\n",
       "      <td>7.041</td>\n",
       "      <td>0.00</td>\n",
       "      <td>0.0</td>\n",
       "      <td>0</td>\n",
       "    </tr>\n",
       "    <tr>\n",
       "      <th>4</th>\n",
       "      <td>5</td>\n",
       "      <td>0</td>\n",
       "      <td>1998</td>\n",
       "      <td>42.0</td>\n",
       "      <td>叔叔或者姑姑有一方患有糖尿病</td>\n",
       "      <td>NaN</td>\n",
       "      <td>7.134</td>\n",
       "      <td>0.00</td>\n",
       "      <td>0.0</td>\n",
       "      <td>1</td>\n",
       "    </tr>\n",
       "  </tbody>\n",
       "</table>\n",
       "</div>"
      ],
      "text/plain": [
       "   编号  性别  出生年份  体重指数          糖尿病家族史    舒张压  口服耐糖量测试  胰岛素释放实验  肱三头肌皮褶厚度  \\\n",
       "0   1   0  1996  30.1             无记录  106.0    3.818     7.89       0.0   \n",
       "1   2   0  1988  27.5             无记录   84.0   -1.000     0.00      14.7   \n",
       "2   3   1  1988  36.5             无记录   85.0    7.131     0.00      40.1   \n",
       "3   4   1  1992  29.5             无记录   91.0    7.041     0.00       0.0   \n",
       "4   5   0  1998  42.0  叔叔或者姑姑有一方患有糖尿病    NaN    7.134     0.00       0.0   \n",
       "\n",
       "   患有糖尿病标识  \n",
       "0        0  \n",
       "1        0  \n",
       "2        1  \n",
       "3        0  \n",
       "4        1  "
      ]
     },
     "execution_count": 2,
     "metadata": {},
     "output_type": "execute_result"
    }
   ],
   "source": [
    "# 查看训练数据\n",
    "train_data.head()"
   ]
  },
  {
   "cell_type": "code",
   "execution_count": 3,
   "id": "fe958198",
   "metadata": {},
   "outputs": [
    {
     "name": "stdout",
     "output_type": "stream",
     "text": [
      "<class 'pandas.core.frame.DataFrame'>\n",
      "RangeIndex: 5070 entries, 0 to 5069\n",
      "Data columns (total 10 columns):\n",
      " #   Column    Non-Null Count  Dtype  \n",
      "---  ------    --------------  -----  \n",
      " 0   编号        5070 non-null   int64  \n",
      " 1   性别        5070 non-null   int64  \n",
      " 2   出生年份      5070 non-null   int64  \n",
      " 3   体重指数      5070 non-null   float64\n",
      " 4   糖尿病家族史    5070 non-null   object \n",
      " 5   舒张压       4823 non-null   float64\n",
      " 6   口服耐糖量测试   5070 non-null   float64\n",
      " 7   胰岛素释放实验   5070 non-null   float64\n",
      " 8   肱三头肌皮褶厚度  5070 non-null   float64\n",
      " 9   患有糖尿病标识   5070 non-null   int64  \n",
      "dtypes: float64(5), int64(4), object(1)\n",
      "memory usage: 396.2+ KB\n"
     ]
    }
   ],
   "source": [
    "# 浏览数据的基本信息\n",
    "train_data.info()"
   ]
  },
  {
   "cell_type": "code",
   "execution_count": 4,
   "id": "969dd9e8",
   "metadata": {},
   "outputs": [
    {
     "data": {
      "text/html": [
       "<div>\n",
       "<style scoped>\n",
       "    .dataframe tbody tr th:only-of-type {\n",
       "        vertical-align: middle;\n",
       "    }\n",
       "\n",
       "    .dataframe tbody tr th {\n",
       "        vertical-align: top;\n",
       "    }\n",
       "\n",
       "    .dataframe thead th {\n",
       "        text-align: right;\n",
       "    }\n",
       "</style>\n",
       "<table border=\"1\" class=\"dataframe\">\n",
       "  <thead>\n",
       "    <tr style=\"text-align: right;\">\n",
       "      <th></th>\n",
       "      <th>编号</th>\n",
       "      <th>性别</th>\n",
       "      <th>出生年份</th>\n",
       "      <th>体重指数</th>\n",
       "      <th>舒张压</th>\n",
       "      <th>口服耐糖量测试</th>\n",
       "      <th>胰岛素释放实验</th>\n",
       "      <th>肱三头肌皮褶厚度</th>\n",
       "      <th>患有糖尿病标识</th>\n",
       "    </tr>\n",
       "  </thead>\n",
       "  <tbody>\n",
       "    <tr>\n",
       "      <th>count</th>\n",
       "      <td>5070.000000</td>\n",
       "      <td>5070.000000</td>\n",
       "      <td>5070.000000</td>\n",
       "      <td>5070.000000</td>\n",
       "      <td>4823.000000</td>\n",
       "      <td>5070.000000</td>\n",
       "      <td>5070.000000</td>\n",
       "      <td>5070.000000</td>\n",
       "      <td>5070.000000</td>\n",
       "    </tr>\n",
       "    <tr>\n",
       "      <th>mean</th>\n",
       "      <td>2535.500000</td>\n",
       "      <td>0.456805</td>\n",
       "      <td>1986.869231</td>\n",
       "      <td>37.986785</td>\n",
       "      <td>89.423595</td>\n",
       "      <td>5.612839</td>\n",
       "      <td>4.114321</td>\n",
       "      <td>6.994371</td>\n",
       "      <td>0.381854</td>\n",
       "    </tr>\n",
       "    <tr>\n",
       "      <th>std</th>\n",
       "      <td>1463.727263</td>\n",
       "      <td>0.498180</td>\n",
       "      <td>8.919737</td>\n",
       "      <td>11.447095</td>\n",
       "      <td>9.266992</td>\n",
       "      <td>2.257649</td>\n",
       "      <td>8.726001</td>\n",
       "      <td>13.651442</td>\n",
       "      <td>0.485889</td>\n",
       "    </tr>\n",
       "    <tr>\n",
       "      <th>min</th>\n",
       "      <td>1.000000</td>\n",
       "      <td>0.000000</td>\n",
       "      <td>1943.000000</td>\n",
       "      <td>0.000000</td>\n",
       "      <td>30.000000</td>\n",
       "      <td>-1.000000</td>\n",
       "      <td>0.000000</td>\n",
       "      <td>0.000000</td>\n",
       "      <td>0.000000</td>\n",
       "    </tr>\n",
       "    <tr>\n",
       "      <th>25%</th>\n",
       "      <td>1268.250000</td>\n",
       "      <td>0.000000</td>\n",
       "      <td>1980.000000</td>\n",
       "      <td>28.400000</td>\n",
       "      <td>85.000000</td>\n",
       "      <td>4.314000</td>\n",
       "      <td>0.000000</td>\n",
       "      <td>0.000000</td>\n",
       "      <td>0.000000</td>\n",
       "    </tr>\n",
       "    <tr>\n",
       "      <th>50%</th>\n",
       "      <td>2535.500000</td>\n",
       "      <td>0.000000</td>\n",
       "      <td>1987.000000</td>\n",
       "      <td>36.550000</td>\n",
       "      <td>89.000000</td>\n",
       "      <td>5.760000</td>\n",
       "      <td>0.000000</td>\n",
       "      <td>0.000000</td>\n",
       "      <td>0.000000</td>\n",
       "    </tr>\n",
       "    <tr>\n",
       "      <th>75%</th>\n",
       "      <td>3802.750000</td>\n",
       "      <td>1.000000</td>\n",
       "      <td>1995.000000</td>\n",
       "      <td>47.600000</td>\n",
       "      <td>96.000000</td>\n",
       "      <td>7.193000</td>\n",
       "      <td>7.100000</td>\n",
       "      <td>4.120000</td>\n",
       "      <td>1.000000</td>\n",
       "    </tr>\n",
       "    <tr>\n",
       "      <th>max</th>\n",
       "      <td>5070.000000</td>\n",
       "      <td>1.000000</td>\n",
       "      <td>2009.000000</td>\n",
       "      <td>65.900000</td>\n",
       "      <td>126.000000</td>\n",
       "      <td>10.839000</td>\n",
       "      <td>108.960000</td>\n",
       "      <td>45.000000</td>\n",
       "      <td>1.000000</td>\n",
       "    </tr>\n",
       "  </tbody>\n",
       "</table>\n",
       "</div>"
      ],
      "text/plain": [
       "                编号           性别         出生年份         体重指数          舒张压  \\\n",
       "count  5070.000000  5070.000000  5070.000000  5070.000000  4823.000000   \n",
       "mean   2535.500000     0.456805  1986.869231    37.986785    89.423595   \n",
       "std    1463.727263     0.498180     8.919737    11.447095     9.266992   \n",
       "min       1.000000     0.000000  1943.000000     0.000000    30.000000   \n",
       "25%    1268.250000     0.000000  1980.000000    28.400000    85.000000   \n",
       "50%    2535.500000     0.000000  1987.000000    36.550000    89.000000   \n",
       "75%    3802.750000     1.000000  1995.000000    47.600000    96.000000   \n",
       "max    5070.000000     1.000000  2009.000000    65.900000   126.000000   \n",
       "\n",
       "           口服耐糖量测试      胰岛素释放实验     肱三头肌皮褶厚度      患有糖尿病标识  \n",
       "count  5070.000000  5070.000000  5070.000000  5070.000000  \n",
       "mean      5.612839     4.114321     6.994371     0.381854  \n",
       "std       2.257649     8.726001    13.651442     0.485889  \n",
       "min      -1.000000     0.000000     0.000000     0.000000  \n",
       "25%       4.314000     0.000000     0.000000     0.000000  \n",
       "50%       5.760000     0.000000     0.000000     0.000000  \n",
       "75%       7.193000     7.100000     4.120000     1.000000  \n",
       "max      10.839000   108.960000    45.000000     1.000000  "
      ]
     },
     "execution_count": 4,
     "metadata": {},
     "output_type": "execute_result"
    }
   ],
   "source": [
    "# 查看数据的基本统计信息\n",
    "train_data.describe()"
   ]
  },
  {
   "cell_type": "code",
   "execution_count": 5,
   "id": "71e2781d",
   "metadata": {},
   "outputs": [
    {
     "name": "stdout",
     "output_type": "stream",
     "text": [
      "患糖尿病的人数:：1936人, 不患糖尿病的人数：3134人\n"
     ]
    }
   ],
   "source": [
    "# 统计一下患和不患糖尿病的人数\n",
    "patient_num = train_data['患有糖尿病标识'].sum()\n",
    "nonpatient_num = train_data['患有糖尿病标识'].count() - patient_num\n",
    "print('患糖尿病的人数:：%d人, 不患糖尿病的人数：%d人' % (patient_num, nonpatient_num))"
   ]
  },
  {
   "cell_type": "code",
   "execution_count": 6,
   "id": "64583046",
   "metadata": {},
   "outputs": [
    {
     "name": "stdout",
     "output_type": "stream",
     "text": [
      "患有糖尿病标识  性别\n",
      "0        0     1741\n",
      "         1     1393\n",
      "1        0     1013\n",
      "         1      923\n",
      "dtype: int64\n"
     ]
    }
   ],
   "source": [
    "# 分析性别与是否患糖尿病的关系\n",
    "Sex_Patient = pd.concat([train_data['患有糖尿病标识'], train_data['性别']], axis=1)\n",
    "print(Sex_Patient.value_counts())"
   ]
  },
  {
   "cell_type": "code",
   "execution_count": 7,
   "id": "c92ff922",
   "metadata": {},
   "outputs": [
    {
     "data": {
      "image/png": "[encoded data removed]",
      "text/plain": [
       "<Figure size 432x288 with 1 Axes>"
      ]
     },
     "metadata": {
      "needs_background": "light"
     },
     "output_type": "display_data"
    }
   ],
   "source": [
    "import matplotlib.pyplot as plt\n",
    "plt.figure()\n",
    "plt.rcParams['font.family'] = ['SimHei']\n",
    "x = ['男', '女']\n",
    "y1 = [923, 1013]\n",
    "y2 = [1393, 1741]\n",
    "plt.bar(range(2), y1, width=0.2, facecolor='red', label='糖尿病患者')\n",
    "plt.bar([i+0.2 for i in range(2)], y2, width=0.2, facecolor='greenyellow', label='非糖尿病患者')\n",
    "plt.xticks([i+0.1 for i in range(2)], x)\n",
    "for a, b in zip(range(2), y1):\n",
    "    plt.text(a, b + 0.05, '%.0f' % b, ha='center', va='bottom', fontsize=10)\n",
    "for a, b in zip([i+0.2 for i in range(2)], y2):\n",
    "    plt.text(a, b + 0.05, '%.0f' % b, ha='center', va='bottom', fontsize=10)\n",
    "plt.ylabel('人数')\n",
    "plt.legend()\n",
    "plt.show()"
   ]
  },
  {
   "cell_type": "markdown",
   "id": "013a66f6",
   "metadata": {},
   "source": [
    "**由此可见，在5070例样本中，男性共2316人，女性共2754人；男性患者923人，占男性比例约为40%；女性患者1013人，占女性比例约为37%。**"
   ]
  },
  {
   "cell_type": "code",
   "execution_count": 8,
   "id": "fd69437e",
   "metadata": {},
   "outputs": [
    {
     "data": {
      "image/png": "[encoded data removed]",
      "text/plain": [
       "<Figure size 432x288 with 1 Axes>"
      ]
     },
     "metadata": {
      "needs_background": "light"
     },
     "output_type": "display_data"
    }
   ],
   "source": [
    "# 分析出生年份与是否患糖尿病的关系\n",
    "Birth_Patient = pd.concat([train_data['患有糖尿病标识'], train_data['出生年份']],axis=1)\n",
    "Birth_OnPatient = Birth_Patient[Birth_Patient['患有糖尿病标识'] == 1]['出生年份'].value_counts()\n",
    "Birth_NonPatient = Birth_Patient[Birth_Patient['患有糖尿病标识'] == 0]['出生年份'].value_counts()\n",
    "x1 = Birth_OnPatient.index\n",
    "y1 = Birth_OnPatient.values\n",
    "x2 = Birth_NonPatient.index\n",
    "y2 = Birth_NonPatient.values\n",
    "plt.scatter(x1, y1, c='r', label='糖尿病患者')\n",
    "plt.scatter(x2, y2, alpha=0.6, label='非糖尿病患者')\n",
    "plt.xlabel('出生年份')\n",
    "plt.ylabel('糖尿病患者数量')\n",
    "plt.legend()\n",
    "plt.show()"
   ]
  },
  {
   "cell_type": "markdown",
   "id": "21b64fa5",
   "metadata": {},
   "source": [
    "**由此可见，糖尿病多发人群为中老年人**"
   ]
  },
  {
   "cell_type": "code",
   "execution_count": 9,
   "id": "c10c1fd8",
   "metadata": {},
   "outputs": [
    {
     "data": {
      "image/png": "[encoded data removed]",
      "text/plain": [
       "<Figure size 432x288 with 1 Axes>"
      ]
     },
     "metadata": {
      "needs_background": "light"
     },
     "output_type": "display_data"
    }
   ],
   "source": [
    "# 分析体重指数与是否患糖尿病的关系\n",
    "Weight_Patient = pd.concat([train_data['患有糖尿病标识'], train_data['体重指数']], axis=1)\n",
    "Weight_OnPatient = Weight_Patient[Weight_Patient['患有糖尿病标识'] == 1]['体重指数'].value_counts()\n",
    "Weight_NonPatient = Weight_Patient[Weight_Patient['患有糖尿病标识'] == 0]['体重指数'].value_counts()\n",
    "x1 = Weight_OnPatient.index\n",
    "y1 = Weight_OnPatient.values\n",
    "x2 = Weight_NonPatient.index\n",
    "y2 = Weight_NonPatient.values\n",
    "plt.figure()\n",
    "plt.scatter(x1, y1, c='r', label='糖尿病患者')\n",
    "plt.scatter(x2, y2, alpha=0.6, label='非糖尿病患者')\n",
    "plt.xlabel('体重指数')\n",
    "plt.ylabel('人数')\n",
    "plt.legend()\n",
    "plt.show()"
   ]
  },
  {
   "cell_type": "markdown",
   "id": "c0b9c803",
   "metadata": {},
   "source": [
    "**由此可见，体重指数越高，越容易患糖尿病**"
   ]
  },
  {
   "cell_type": "code",
   "execution_count": 10,
   "id": "1e72e925",
   "metadata": {},
   "outputs": [
    {
     "data": {
      "text/plain": [
       "无记录              1101\n",
       "叔叔或姑姑有一方患有糖尿病     495\n",
       "父母有一方患有糖尿病        340\n",
       "Name: 糖尿病家族史, dtype: int64"
      ]
     },
     "execution_count": 10,
     "metadata": {},
     "output_type": "execute_result"
    }
   ],
   "source": [
    "# 分析糖尿病家族史与是否患糖尿病的关系\n",
    "Family_Patient = pd.concat([train_data['患有糖尿病标识'], train_data['糖尿病家族史']], axis=1)\n",
    "Family_Patient = Family_Patient.replace('叔叔或者姑姑有一方患有糖尿病', '叔叔或姑姑有一方患有糖尿病')\n",
    "Family_OnPatient = Family_Patient[Family_Patient['患有糖尿病标识'] == 1]['糖尿病家族史'].value_counts()\n",
    "Family_OnPatient"
   ]
  },
  {
   "cell_type": "code",
   "execution_count": 11,
   "id": "ba685cfd",
   "metadata": {},
   "outputs": [
    {
     "data": {
      "text/plain": [
       "无记录              1796\n",
       "叔叔或姑姑有一方患有糖尿病     803\n",
       "父母有一方患有糖尿病        535\n",
       "Name: 糖尿病家族史, dtype: int64"
      ]
     },
     "execution_count": 11,
     "metadata": {},
     "output_type": "execute_result"
    }
   ],
   "source": [
    "Family_NonPatient = Family_Patient[Family_Patient['患有糖尿病标识'] == 0]['糖尿病家族史'].value_counts()\n",
    "Family_NonPatient"
   ]
  },
  {
   "cell_type": "code",
   "execution_count": 12,
   "id": "a396e1a8",
   "metadata": {},
   "outputs": [
    {
     "data": {
      "image/png": "[encoded data removed]",
      "text/plain": [
       "<Figure size 432x288 with 1 Axes>"
      ]
     },
     "metadata": {
      "needs_background": "light"
     },
     "output_type": "display_data"
    }
   ],
   "source": [
    "import numpy as np\n",
    "x = ['无记录', '叔叔或姑姑有一方患有糖尿病', '父母有一方患有糖尿病']\n",
    "y1 = [1101, 495, 340]\n",
    "y2 = [1796, 803, 535]\n",
    "plt.figure()\n",
    "plt.bar(np.arange(len(x)), y1, facecolor='red', label='糖尿病患者')\n",
    "plt.bar(np.arange(len(x)), y2, facecolor='cornflowerblue', bottom=y1, label='非糖尿病患者')\n",
    "plt.xticks([i for i in np.arange(len(x))], x)\n",
    "plt.xlabel('糖尿病家族史')\n",
    "plt.ylabel('人数')\n",
    "plt.legend()\n",
    "plt.show()"
   ]
  },
  {
   "cell_type": "markdown",
   "id": "1acd5e5a",
   "metadata": {},
   "source": [
    "**由此可见，有糖尿病家族史的人患病的比例更高**"
   ]
  },
  {
   "cell_type": "code",
   "execution_count": 13,
   "id": "9d664b85",
   "metadata": {},
   "outputs": [
    {
     "data": {
      "image/png": "[encoded data removed]",
      "text/plain": [
       "<Figure size 432x288 with 1 Axes>"
      ]
     },
     "metadata": {
      "needs_background": "light"
     },
     "output_type": "display_data"
    }
   ],
   "source": [
    "# 分析舒张压与是否患糖尿病的关系\n",
    "Pressure_Patient = pd.concat([train_data['患有糖尿病标识'], train_data['舒张压']], axis=1)\n",
    "Pressure_OnPatient = Pressure_Patient[Pressure_Patient['患有糖尿病标识'] == 1]['舒张压'].value_counts()\n",
    "Pressure_NonPatient = Pressure_Patient[Pressure_Patient['患有糖尿病标识'] == 0]['舒张压'].value_counts()\n",
    "x1 = Pressure_OnPatient.index\n",
    "y1 = Pressure_OnPatient.values\n",
    "x2 = Pressure_NonPatient.index\n",
    "y2 = Pressure_NonPatient.values\n",
    "plt.figure()\n",
    "plt.scatter(x1, y1, c='r', label='糖尿病患者')\n",
    "plt.scatter(x2, y2, alpha=0.6, label='非糖尿病患者')\n",
    "plt.xlabel('舒张压')\n",
    "plt.ylabel('人数')\n",
    "plt.legend()\n",
    "plt.show()"
   ]
  },
  {
   "cell_type": "markdown",
   "id": "c73ff83c",
   "metadata": {},
   "source": [
    "**由此可见，舒张压越高，患糖尿病人数越多**"
   ]
  },
  {
   "cell_type": "code",
   "execution_count": 14,
   "id": "32f87fe5",
   "metadata": {},
   "outputs": [
    {
     "data": {
      "image/png": "[encoded data removed]",
      "text/plain": [
       "<Figure size 432x288 with 1 Axes>"
      ]
     },
     "metadata": {
      "needs_background": "light"
     },
     "output_type": "display_data"
    }
   ],
   "source": [
    "# 分析口服耐糖量测试与是否患糖尿病的关系\n",
    "Sugar_Patient = pd.concat([train_data['患有糖尿病标识'], train_data['口服耐糖量测试']], axis=1)\n",
    "Sugar_OnPatient = Sugar_Patient[Sugar_Patient['患有糖尿病标识'] == 1]['口服耐糖量测试'].value_counts()\n",
    "Sugar_NonPatient = Sugar_Patient[Sugar_Patient['患有糖尿病标识'] == 0]['口服耐糖量测试'].value_counts()\n",
    "x1 = Sugar_OnPatient.index\n",
    "y1 = Sugar_OnPatient.values\n",
    "x2 = Sugar_NonPatient.index\n",
    "y2 = Sugar_NonPatient.values\n",
    "plt.figure()\n",
    "plt.scatter(x1, y1, c='r', alpha=0.5, label='糖尿病患者')\n",
    "plt.xlabel('口服耐糖量测试后的血糖值')\n",
    "plt.ylabel('人数')\n",
    "plt.legend()\n",
    "plt.show()"
   ]
  },
  {
   "cell_type": "code",
   "execution_count": 15,
   "id": "2ef20b5e",
   "metadata": {},
   "outputs": [
    {
     "data": {
      "text/plain": [
       "<matplotlib.legend.Legend at 0x21daa01d250>"
      ]
     },
     "execution_count": 15,
     "metadata": {},
     "output_type": "execute_result"
    },
    {
     "data": {
      "image/png": "[encoded data removed]",
      "text/plain": [
       "<Figure size 432x288 with 1 Axes>"
      ]
     },
     "metadata": {
      "needs_background": "light"
     },
     "output_type": "display_data"
    }
   ],
   "source": [
    "plt.scatter(x2, y2, alpha=0.5, label='非糖尿病患者')\n",
    "plt.xlabel('口服耐糖量测试后的血糖值')\n",
    "plt.ylabel('人数')\n",
    "plt.legend()"
   ]
  },
  {
   "cell_type": "markdown",
   "id": "ada67ef8",
   "metadata": {},
   "source": [
    "**由此可见，当血糖值>8时，患糖尿病患者明显多于非糖尿病患者。并且<=0的都为异常值**"
   ]
  },
  {
   "cell_type": "code",
   "execution_count": 16,
   "id": "f0b01fef",
   "metadata": {},
   "outputs": [
    {
     "data": {
      "image/png": "[encoded data removed]",
      "text/plain": [
       "<Figure size 432x288 with 1 Axes>"
      ]
     },
     "metadata": {
      "needs_background": "light"
     },
     "output_type": "display_data"
    }
   ],
   "source": [
    "# 分析胰岛素释放实验与是否患糖尿病的关系\n",
    "Insulin_Patient = pd.concat([train_data['患有糖尿病标识'], train_data['胰岛素释放实验']], axis=1)\n",
    "Insulin_OnPatient = Insulin_Patient[Insulin_Patient['患有糖尿病标识'] == 1]['胰岛素释放实验'].value_counts()\n",
    "Insulin_NonPatient = Insulin_Patient[Insulin_Patient['患有糖尿病标识'] == 0]['胰岛素释放实验'].value_counts()\n",
    "x1 = Insulin_OnPatient.index\n",
    "y1 = Insulin_OnPatient.values\n",
    "x2 = Insulin_NonPatient.index\n",
    "y2 = Insulin_NonPatient.values\n",
    "plt.figure()\n",
    "plt.scatter(x1, y1, c='r', alpha=0.5, label='糖尿病患者')\n",
    "plt.xlabel('胰岛素释放实验后的血浆胰岛素水平')\n",
    "plt.ylabel('人数')\n",
    "plt.legend()\n",
    "plt.show()"
   ]
  },
  {
   "cell_type": "code",
   "execution_count": 17,
   "id": "469411c0",
   "metadata": {},
   "outputs": [
    {
     "data": {
      "text/plain": [
       "<matplotlib.legend.Legend at 0x21daa0b0f10>"
      ]
     },
     "execution_count": 17,
     "metadata": {},
     "output_type": "execute_result"
    },
    {
     "data": {
      "image/png": "[encoded data removed]",
      "text/plain": [
       "<Figure size 432x288 with 1 Axes>"
      ]
     },
     "metadata": {
      "needs_background": "light"
     },
     "output_type": "display_data"
    }
   ],
   "source": [
    "plt.scatter(x2, y2, alpha=0.5, label='非糖尿病患者')\n",
    "plt.xlabel('胰岛素释放实验后的血浆胰岛素水平')\n",
    "plt.ylabel('人数')\n",
    "plt.legend()"
   ]
  },
  {
   "cell_type": "markdown",
   "id": "205b7564",
   "metadata": {},
   "source": [
    "**对比可知，两者没有明显的差距，并且为0的数据过多，这属于异常数据**"
   ]
  },
  {
   "cell_type": "code",
   "execution_count": 18,
   "id": "3c4cc18c",
   "metadata": {},
   "outputs": [
    {
     "data": {
      "image/png": "[encoded data removed]",
      "text/plain": [
       "<Figure size 432x288 with 1 Axes>"
      ]
     },
     "metadata": {
      "needs_background": "light"
     },
     "output_type": "display_data"
    }
   ],
   "source": [
    "# 分析肱三头肌皮褶厚度与是否患糖尿病的关系\n",
    "Skinfold_Patient = pd.concat([train_data['患有糖尿病标识'], train_data['肱三头肌皮褶厚度']], axis=1)\n",
    "Skinfold_OnPatient = Skinfold_Patient[Skinfold_Patient['患有糖尿病标识'] == 1]['肱三头肌皮褶厚度'].value_counts()\n",
    "Skinfold_NonPatient = Skinfold_Patient[Skinfold_Patient['患有糖尿病标识'] == 0]['肱三头肌皮褶厚度'].value_counts()\n",
    "x1 = Skinfold_OnPatient.index\n",
    "y1 = Skinfold_OnPatient.values\n",
    "x2 = Skinfold_NonPatient.index\n",
    "y2 = Skinfold_NonPatient.values\n",
    "plt.figure()\n",
    "plt.scatter(x1, y1, c='r', alpha=0.5, label='糖尿病患者')\n",
    "plt.xlabel('肱三头肌皮褶厚度（单位：mm）')\n",
    "plt.ylabel('人数')\n",
    "plt.legend()\n",
    "plt.show()"
   ]
  },
  {
   "cell_type": "code",
   "execution_count": 19,
   "id": "5c9939b1",
   "metadata": {},
   "outputs": [
    {
     "data": {
      "text/plain": [
       "<matplotlib.legend.Legend at 0x21daa005a30>"
      ]
     },
     "execution_count": 19,
     "metadata": {},
     "output_type": "execute_result"
    },
    {
     "data": {
      "image/png": "[encoded data removed]",
      "text/plain": [
       "<Figure size 432x288 with 1 Axes>"
      ]
     },
     "metadata": {
      "needs_background": "light"
     },
     "output_type": "display_data"
    }
   ],
   "source": [
    "plt.scatter(x2, y2, alpha=0.5, label='非糖尿病患者')\n",
    "plt.xlabel('肱三头肌皮褶厚度（单位：mm）')\n",
    "plt.ylabel('人数')\n",
    "plt.legend()"
   ]
  },
  {
   "cell_type": "markdown",
   "id": "1807a419",
   "metadata": {},
   "source": [
    "**由此可见，当肱三头肌皮褶厚度>40时，糖尿病患者明显大于非糖尿病患者，0的数据过多，属于异常数据**"
   ]
  },
  {
   "cell_type": "code",
   "execution_count": 20,
   "id": "a8f9d011",
   "metadata": {},
   "outputs": [
    {
     "name": "stdout",
     "output_type": "stream",
     "text": [
      "出生年份       -0.068225\n",
      "编号          0.027435\n",
      "性别          0.031480\n",
      "胰岛素释放实验     0.156656\n",
      "舒张压         0.157421\n",
      "口服耐糖量测试     0.178133\n",
      "体重指数        0.377919\n",
      "肱三头肌皮褶厚度    0.410667\n",
      "患有糖尿病标识     1.000000\n",
      "Name: 患有糖尿病标识, dtype: float64\n"
     ]
    }
   ],
   "source": [
    "# 关系矩阵\n",
    "corr_df = train_data.corr()\n",
    "print(corr_df['患有糖尿病标识'].sort_values())"
   ]
  },
  {
   "cell_type": "code",
   "execution_count": 21,
   "id": "b8f85cc0",
   "metadata": {},
   "outputs": [],
   "source": [
    "# 处理离群点\n",
    "train_data.drop(train_data[train_data['口服耐糖量测试'] <= 0].index, inplace=True)\n",
    "train_data.drop(train_data[(train_data['体重指数'] < 10) & (train_data['体重指数'] > 60)].index, inplace=True)\n",
    "train_data = train_data.reset_index(drop=True)"
   ]
  },
  {
   "cell_type": "code",
   "execution_count": 22,
   "id": "6341d049",
   "metadata": {},
   "outputs": [
    {
     "data": {
      "text/plain": [
       "(8818, 10)"
      ]
     },
     "execution_count": 22,
     "metadata": {},
     "output_type": "execute_result"
    }
   ],
   "source": [
    "# 合并数据集，方便同时对两个数据集进行清洗\n",
    "full = pd.concat([train_data, test_data], axis=0, ignore_index=True)\n",
    "full.shape"
   ]
  },
  {
   "cell_type": "code",
   "execution_count": 23,
   "id": "305860e4",
   "metadata": {},
   "outputs": [
    {
     "name": "stdout",
     "output_type": "stream",
     "text": [
      "<class 'pandas.core.frame.DataFrame'>\n",
      "RangeIndex: 8818 entries, 0 to 8817\n",
      "Data columns (total 10 columns):\n",
      " #   Column    Non-Null Count  Dtype  \n",
      "---  ------    --------------  -----  \n",
      " 0   编号        8818 non-null   int64  \n",
      " 1   性别        8818 non-null   int64  \n",
      " 2   出生年份      8818 non-null   int64  \n",
      " 3   体重指数      8818 non-null   float64\n",
      " 4   糖尿病家族史    8818 non-null   object \n",
      " 5   舒张压       8582 non-null   float64\n",
      " 6   口服耐糖量测试   8818 non-null   float64\n",
      " 7   胰岛素释放实验   8818 non-null   float64\n",
      " 8   肱三头肌皮褶厚度  8818 non-null   float64\n",
      " 9   患有糖尿病标识   4818 non-null   float64\n",
      "dtypes: float64(6), int64(3), object(1)\n",
      "memory usage: 689.0+ KB\n"
     ]
    }
   ],
   "source": [
    "full.info()"
   ]
  },
  {
   "cell_type": "code",
   "execution_count": 24,
   "id": "9b9341fa",
   "metadata": {},
   "outputs": [
    {
     "data": {
      "text/html": [
       "<div>\n",
       "<style scoped>\n",
       "    .dataframe tbody tr th:only-of-type {\n",
       "        vertical-align: middle;\n",
       "    }\n",
       "\n",
       "    .dataframe tbody tr th {\n",
       "        vertical-align: top;\n",
       "    }\n",
       "\n",
       "    .dataframe thead th {\n",
       "        text-align: right;\n",
       "    }\n",
       "</style>\n",
       "<table border=\"1\" class=\"dataframe\">\n",
       "  <thead>\n",
       "    <tr style=\"text-align: right;\">\n",
       "      <th></th>\n",
       "      <th>编号</th>\n",
       "      <th>性别</th>\n",
       "      <th>体重指数</th>\n",
       "      <th>糖尿病家族史</th>\n",
       "      <th>舒张压</th>\n",
       "      <th>口服耐糖量测试</th>\n",
       "      <th>胰岛素释放实验</th>\n",
       "      <th>肱三头肌皮褶厚度</th>\n",
       "      <th>患有糖尿病标识</th>\n",
       "      <th>年龄</th>\n",
       "    </tr>\n",
       "  </thead>\n",
       "  <tbody>\n",
       "    <tr>\n",
       "      <th>0</th>\n",
       "      <td>1</td>\n",
       "      <td>0</td>\n",
       "      <td>30.1</td>\n",
       "      <td>无记录</td>\n",
       "      <td>106.0</td>\n",
       "      <td>3.818</td>\n",
       "      <td>7.89</td>\n",
       "      <td>0.0</td>\n",
       "      <td>0.0</td>\n",
       "      <td>26</td>\n",
       "    </tr>\n",
       "    <tr>\n",
       "      <th>1</th>\n",
       "      <td>3</td>\n",
       "      <td>1</td>\n",
       "      <td>36.5</td>\n",
       "      <td>无记录</td>\n",
       "      <td>85.0</td>\n",
       "      <td>7.131</td>\n",
       "      <td>0.00</td>\n",
       "      <td>40.1</td>\n",
       "      <td>1.0</td>\n",
       "      <td>34</td>\n",
       "    </tr>\n",
       "    <tr>\n",
       "      <th>2</th>\n",
       "      <td>4</td>\n",
       "      <td>1</td>\n",
       "      <td>29.5</td>\n",
       "      <td>无记录</td>\n",
       "      <td>91.0</td>\n",
       "      <td>7.041</td>\n",
       "      <td>0.00</td>\n",
       "      <td>0.0</td>\n",
       "      <td>0.0</td>\n",
       "      <td>30</td>\n",
       "    </tr>\n",
       "    <tr>\n",
       "      <th>3</th>\n",
       "      <td>5</td>\n",
       "      <td>0</td>\n",
       "      <td>42.0</td>\n",
       "      <td>叔叔或者姑姑有一方患有糖尿病</td>\n",
       "      <td>NaN</td>\n",
       "      <td>7.134</td>\n",
       "      <td>0.00</td>\n",
       "      <td>0.0</td>\n",
       "      <td>1.0</td>\n",
       "      <td>24</td>\n",
       "    </tr>\n",
       "    <tr>\n",
       "      <th>4</th>\n",
       "      <td>6</td>\n",
       "      <td>1</td>\n",
       "      <td>28.0</td>\n",
       "      <td>无记录</td>\n",
       "      <td>NaN</td>\n",
       "      <td>6.077</td>\n",
       "      <td>0.00</td>\n",
       "      <td>0.0</td>\n",
       "      <td>0.0</td>\n",
       "      <td>32</td>\n",
       "    </tr>\n",
       "  </tbody>\n",
       "</table>\n",
       "</div>"
      ],
      "text/plain": [
       "   编号  性别  体重指数          糖尿病家族史    舒张压  口服耐糖量测试  胰岛素释放实验  肱三头肌皮褶厚度  患有糖尿病标识  \\\n",
       "0   1   0  30.1             无记录  106.0    3.818     7.89       0.0      0.0   \n",
       "1   3   1  36.5             无记录   85.0    7.131     0.00      40.1      1.0   \n",
       "2   4   1  29.5             无记录   91.0    7.041     0.00       0.0      0.0   \n",
       "3   5   0  42.0  叔叔或者姑姑有一方患有糖尿病    NaN    7.134     0.00       0.0      1.0   \n",
       "4   6   1  28.0             无记录    NaN    6.077     0.00       0.0      0.0   \n",
       "\n",
       "   年龄  \n",
       "0  26  \n",
       "1  34  \n",
       "2  30  \n",
       "3  24  \n",
       "4  32  "
      ]
     },
     "execution_count": 24,
     "metadata": {},
     "output_type": "execute_result"
    }
   ],
   "source": [
    "# 添加一个年龄属性，并删掉出生年份属性\n",
    "full['年龄'] = 2022 - full['出生年份']\n",
    "full.drop('出生年份', axis=1, inplace=True)\n",
    "full.head()"
   ]
  },
  {
   "cell_type": "code",
   "execution_count": 25,
   "id": "24ac8344",
   "metadata": {},
   "outputs": [
    {
     "data": {
      "text/html": [
       "<div>\n",
       "<style scoped>\n",
       "    .dataframe tbody tr th:only-of-type {\n",
       "        vertical-align: middle;\n",
       "    }\n",
       "\n",
       "    .dataframe tbody tr th {\n",
       "        vertical-align: top;\n",
       "    }\n",
       "\n",
       "    .dataframe thead th {\n",
       "        text-align: right;\n",
       "    }\n",
       "</style>\n",
       "<table border=\"1\" class=\"dataframe\">\n",
       "  <thead>\n",
       "    <tr style=\"text-align: right;\">\n",
       "      <th></th>\n",
       "      <th>编号</th>\n",
       "      <th>性别</th>\n",
       "      <th>体重指数</th>\n",
       "      <th>糖尿病家族史</th>\n",
       "      <th>舒张压</th>\n",
       "      <th>口服耐糖量测试</th>\n",
       "      <th>胰岛素释放实验</th>\n",
       "      <th>肱三头肌皮褶厚度</th>\n",
       "      <th>患有糖尿病标识</th>\n",
       "      <th>年龄</th>\n",
       "    </tr>\n",
       "  </thead>\n",
       "  <tbody>\n",
       "    <tr>\n",
       "      <th>0</th>\n",
       "      <td>1</td>\n",
       "      <td>0</td>\n",
       "      <td>5</td>\n",
       "      <td>无记录</td>\n",
       "      <td>106.0</td>\n",
       "      <td>3.818</td>\n",
       "      <td>7.89</td>\n",
       "      <td>0.0</td>\n",
       "      <td>0.0</td>\n",
       "      <td>26</td>\n",
       "    </tr>\n",
       "    <tr>\n",
       "      <th>1</th>\n",
       "      <td>3</td>\n",
       "      <td>1</td>\n",
       "      <td>5</td>\n",
       "      <td>无记录</td>\n",
       "      <td>85.0</td>\n",
       "      <td>7.131</td>\n",
       "      <td>0.00</td>\n",
       "      <td>40.1</td>\n",
       "      <td>1.0</td>\n",
       "      <td>34</td>\n",
       "    </tr>\n",
       "    <tr>\n",
       "      <th>2</th>\n",
       "      <td>4</td>\n",
       "      <td>1</td>\n",
       "      <td>4</td>\n",
       "      <td>无记录</td>\n",
       "      <td>91.0</td>\n",
       "      <td>7.041</td>\n",
       "      <td>0.00</td>\n",
       "      <td>0.0</td>\n",
       "      <td>0.0</td>\n",
       "      <td>30</td>\n",
       "    </tr>\n",
       "    <tr>\n",
       "      <th>3</th>\n",
       "      <td>5</td>\n",
       "      <td>0</td>\n",
       "      <td>6</td>\n",
       "      <td>叔叔或者姑姑有一方患有糖尿病</td>\n",
       "      <td>NaN</td>\n",
       "      <td>7.134</td>\n",
       "      <td>0.00</td>\n",
       "      <td>0.0</td>\n",
       "      <td>1.0</td>\n",
       "      <td>24</td>\n",
       "    </tr>\n",
       "    <tr>\n",
       "      <th>4</th>\n",
       "      <td>6</td>\n",
       "      <td>1</td>\n",
       "      <td>4</td>\n",
       "      <td>无记录</td>\n",
       "      <td>NaN</td>\n",
       "      <td>6.077</td>\n",
       "      <td>0.00</td>\n",
       "      <td>0.0</td>\n",
       "      <td>0.0</td>\n",
       "      <td>32</td>\n",
       "    </tr>\n",
       "  </tbody>\n",
       "</table>\n",
       "</div>"
      ],
      "text/plain": [
       "   编号  性别  体重指数          糖尿病家族史    舒张压  口服耐糖量测试  胰岛素释放实验  肱三头肌皮褶厚度  患有糖尿病标识  \\\n",
       "0   1   0     5             无记录  106.0    3.818     7.89       0.0      0.0   \n",
       "1   3   1     5             无记录   85.0    7.131     0.00      40.1      1.0   \n",
       "2   4   1     4             无记录   91.0    7.041     0.00       0.0      0.0   \n",
       "3   5   0     6  叔叔或者姑姑有一方患有糖尿病    NaN    7.134     0.00       0.0      1.0   \n",
       "4   6   1     4             无记录    NaN    6.077     0.00       0.0      0.0   \n",
       "\n",
       "   年龄  \n",
       "0  26  \n",
       "1  34  \n",
       "2  30  \n",
       "3  24  \n",
       "4  32  "
      ]
     },
     "execution_count": 25,
     "metadata": {},
     "output_type": "execute_result"
    }
   ],
   "source": [
    "# 对体重指数特征进行编码\n",
    "# 采取如下规则：\n",
    "# BMI<18.5 (偏瘦);18.5<=BMI<=23.9（正常）;24<=BMI<=26.9（偏胖）;27<=BMI<=29.9（肥胖）;30<=BMI<=39.9（重度肥胖）;40<=BMI（极重度肥胖）\n",
    "def bmi(s):\n",
    "    if s < 18.5:\n",
    "        return 1\n",
    "    elif 18.5 <= s <= 23.9:\n",
    "        return 2\n",
    "    elif 24 <= s <= 26.9:\n",
    "        return 3\n",
    "    elif 27 <= s <= 29.9:\n",
    "        return 4\n",
    "    elif 30 <= s <= 39.9:\n",
    "        return 5\n",
    "    else:\n",
    "        return 6\n",
    "full['体重指数'] = full['体重指数'].map(bmi)\n",
    "full.head()"
   ]
  },
  {
   "cell_type": "code",
   "execution_count": 26,
   "id": "06a54211",
   "metadata": {},
   "outputs": [
    {
     "data": {
      "text/plain": [
       "无记录               3836\n",
       "父母有一方患有糖尿病        2321\n",
       "叔叔或者姑姑有一方患有糖尿病    1629\n",
       "叔叔或姑姑有一方患有糖尿病     1032\n",
       "Name: 糖尿病家族史, dtype: int64"
      ]
     },
     "execution_count": 26,
     "metadata": {},
     "output_type": "execute_result"
    }
   ],
   "source": [
    "# 对糖尿病家族史特征进行编码\n",
    "full['糖尿病家族史'].value_counts()"
   ]
  },
  {
   "cell_type": "code",
   "execution_count": 27,
   "id": "ab4ef5ca",
   "metadata": {},
   "outputs": [
    {
     "data": {
      "text/plain": [
       "无记录              3836\n",
       "叔叔或姑姑有一方患有糖尿病    2661\n",
       "父母有一方患有糖尿病       2321\n",
       "Name: 糖尿病家族史, dtype: int64"
      ]
     },
     "execution_count": 27,
     "metadata": {},
     "output_type": "execute_result"
    }
   ],
   "source": [
    "# 需要将'叔叔或者姑姑有一方患有糖尿病'合并到'叔叔或姑姑有一方患有糖尿病 '中\n",
    "full = full.replace('叔叔或者姑姑有一方患有糖尿病', '叔叔或姑姑有一方患有糖尿病')\n",
    "full['糖尿病家族史'].value_counts()"
   ]
  },
  {
   "cell_type": "code",
   "execution_count": 28,
   "id": "9536006b",
   "metadata": {},
   "outputs": [
    {
     "data": {
      "text/html": [
       "<div>\n",
       "<style scoped>\n",
       "    .dataframe tbody tr th:only-of-type {\n",
       "        vertical-align: middle;\n",
       "    }\n",
       "\n",
       "    .dataframe tbody tr th {\n",
       "        vertical-align: top;\n",
       "    }\n",
       "\n",
       "    .dataframe thead th {\n",
       "        text-align: right;\n",
       "    }\n",
       "</style>\n",
       "<table border=\"1\" class=\"dataframe\">\n",
       "  <thead>\n",
       "    <tr style=\"text-align: right;\">\n",
       "      <th></th>\n",
       "      <th>编号</th>\n",
       "      <th>性别</th>\n",
       "      <th>体重指数</th>\n",
       "      <th>糖尿病家族史</th>\n",
       "      <th>舒张压</th>\n",
       "      <th>口服耐糖量测试</th>\n",
       "      <th>胰岛素释放实验</th>\n",
       "      <th>肱三头肌皮褶厚度</th>\n",
       "      <th>患有糖尿病标识</th>\n",
       "      <th>年龄</th>\n",
       "    </tr>\n",
       "  </thead>\n",
       "  <tbody>\n",
       "    <tr>\n",
       "      <th>0</th>\n",
       "      <td>1</td>\n",
       "      <td>0</td>\n",
       "      <td>5</td>\n",
       "      <td>1</td>\n",
       "      <td>106.0</td>\n",
       "      <td>3.818</td>\n",
       "      <td>7.89</td>\n",
       "      <td>0.0</td>\n",
       "      <td>0.0</td>\n",
       "      <td>26</td>\n",
       "    </tr>\n",
       "    <tr>\n",
       "      <th>1</th>\n",
       "      <td>3</td>\n",
       "      <td>1</td>\n",
       "      <td>5</td>\n",
       "      <td>1</td>\n",
       "      <td>85.0</td>\n",
       "      <td>7.131</td>\n",
       "      <td>0.00</td>\n",
       "      <td>40.1</td>\n",
       "      <td>1.0</td>\n",
       "      <td>34</td>\n",
       "    </tr>\n",
       "    <tr>\n",
       "      <th>2</th>\n",
       "      <td>4</td>\n",
       "      <td>1</td>\n",
       "      <td>4</td>\n",
       "      <td>1</td>\n",
       "      <td>91.0</td>\n",
       "      <td>7.041</td>\n",
       "      <td>0.00</td>\n",
       "      <td>0.0</td>\n",
       "      <td>0.0</td>\n",
       "      <td>30</td>\n",
       "    </tr>\n",
       "    <tr>\n",
       "      <th>3</th>\n",
       "      <td>5</td>\n",
       "      <td>0</td>\n",
       "      <td>6</td>\n",
       "      <td>2</td>\n",
       "      <td>NaN</td>\n",
       "      <td>7.134</td>\n",
       "      <td>0.00</td>\n",
       "      <td>0.0</td>\n",
       "      <td>1.0</td>\n",
       "      <td>24</td>\n",
       "    </tr>\n",
       "    <tr>\n",
       "      <th>4</th>\n",
       "      <td>6</td>\n",
       "      <td>1</td>\n",
       "      <td>4</td>\n",
       "      <td>1</td>\n",
       "      <td>NaN</td>\n",
       "      <td>6.077</td>\n",
       "      <td>0.00</td>\n",
       "      <td>0.0</td>\n",
       "      <td>0.0</td>\n",
       "      <td>32</td>\n",
       "    </tr>\n",
       "  </tbody>\n",
       "</table>\n",
       "</div>"
      ],
      "text/plain": [
       "   编号  性别  体重指数  糖尿病家族史    舒张压  口服耐糖量测试  胰岛素释放实验  肱三头肌皮褶厚度  患有糖尿病标识  年龄\n",
       "0   1   0     5       1  106.0    3.818     7.89       0.0      0.0  26\n",
       "1   3   1     5       1   85.0    7.131     0.00      40.1      1.0  34\n",
       "2   4   1     4       1   91.0    7.041     0.00       0.0      0.0  30\n",
       "3   5   0     6       2    NaN    7.134     0.00       0.0      1.0  24\n",
       "4   6   1     4       1    NaN    6.077     0.00       0.0      0.0  32"
      ]
     },
     "execution_count": 28,
     "metadata": {},
     "output_type": "execute_result"
    }
   ],
   "source": [
    "full['糖尿病家族史'] = full['糖尿病家族史'].map({'无记录': 1, '叔叔或姑姑有一方患有糖尿病': 2, '父母有一方患有糖尿病': 3})\n",
    "full.head()"
   ]
  },
  {
   "cell_type": "code",
   "execution_count": 29,
   "id": "bf625515",
   "metadata": {},
   "outputs": [
    {
     "data": {
      "text/html": [
       "<div>\n",
       "<style scoped>\n",
       "    .dataframe tbody tr th:only-of-type {\n",
       "        vertical-align: middle;\n",
       "    }\n",
       "\n",
       "    .dataframe tbody tr th {\n",
       "        vertical-align: top;\n",
       "    }\n",
       "\n",
       "    .dataframe thead th {\n",
       "        text-align: right;\n",
       "    }\n",
       "</style>\n",
       "<table border=\"1\" class=\"dataframe\">\n",
       "  <thead>\n",
       "    <tr style=\"text-align: right;\">\n",
       "      <th></th>\n",
       "      <th>编号</th>\n",
       "      <th>性别</th>\n",
       "      <th>体重指数</th>\n",
       "      <th>糖尿病家族史</th>\n",
       "      <th>舒张压</th>\n",
       "      <th>口服耐糖量测试</th>\n",
       "      <th>胰岛素释放实验</th>\n",
       "      <th>肱三头肌皮褶厚度</th>\n",
       "      <th>患有糖尿病标识</th>\n",
       "      <th>年龄</th>\n",
       "    </tr>\n",
       "  </thead>\n",
       "  <tbody>\n",
       "    <tr>\n",
       "      <th>0</th>\n",
       "      <td>1</td>\n",
       "      <td>0</td>\n",
       "      <td>5</td>\n",
       "      <td>1</td>\n",
       "      <td>3</td>\n",
       "      <td>3.818</td>\n",
       "      <td>7.89</td>\n",
       "      <td>0.0</td>\n",
       "      <td>0.0</td>\n",
       "      <td>26</td>\n",
       "    </tr>\n",
       "    <tr>\n",
       "      <th>1</th>\n",
       "      <td>3</td>\n",
       "      <td>1</td>\n",
       "      <td>5</td>\n",
       "      <td>1</td>\n",
       "      <td>2</td>\n",
       "      <td>7.131</td>\n",
       "      <td>0.00</td>\n",
       "      <td>40.1</td>\n",
       "      <td>1.0</td>\n",
       "      <td>34</td>\n",
       "    </tr>\n",
       "    <tr>\n",
       "      <th>2</th>\n",
       "      <td>4</td>\n",
       "      <td>1</td>\n",
       "      <td>4</td>\n",
       "      <td>1</td>\n",
       "      <td>3</td>\n",
       "      <td>7.041</td>\n",
       "      <td>0.00</td>\n",
       "      <td>0.0</td>\n",
       "      <td>0.0</td>\n",
       "      <td>30</td>\n",
       "    </tr>\n",
       "    <tr>\n",
       "      <th>3</th>\n",
       "      <td>5</td>\n",
       "      <td>0</td>\n",
       "      <td>6</td>\n",
       "      <td>2</td>\n",
       "      <td>2</td>\n",
       "      <td>7.134</td>\n",
       "      <td>0.00</td>\n",
       "      <td>0.0</td>\n",
       "      <td>1.0</td>\n",
       "      <td>24</td>\n",
       "    </tr>\n",
       "    <tr>\n",
       "      <th>4</th>\n",
       "      <td>6</td>\n",
       "      <td>1</td>\n",
       "      <td>4</td>\n",
       "      <td>1</td>\n",
       "      <td>2</td>\n",
       "      <td>6.077</td>\n",
       "      <td>0.00</td>\n",
       "      <td>0.0</td>\n",
       "      <td>0.0</td>\n",
       "      <td>32</td>\n",
       "    </tr>\n",
       "  </tbody>\n",
       "</table>\n",
       "</div>"
      ],
      "text/plain": [
       "   编号  性别  体重指数  糖尿病家族史  舒张压  口服耐糖量测试  胰岛素释放实验  肱三头肌皮褶厚度  患有糖尿病标识  年龄\n",
       "0   1   0     5       1    3    3.818     7.89       0.0      0.0  26\n",
       "1   3   1     5       1    2    7.131     0.00      40.1      1.0  34\n",
       "2   4   1     4       1    3    7.041     0.00       0.0      0.0  30\n",
       "3   5   0     6       2    2    7.134     0.00       0.0      1.0  24\n",
       "4   6   1     4       1    2    6.077     0.00       0.0      0.0  32"
      ]
     },
     "execution_count": 29,
     "metadata": {},
     "output_type": "execute_result"
    }
   ],
   "source": [
    "# 填充舒张压的缺失值\n",
    "full['舒张压'] = full['舒张压'].fillna(full['舒张压'].mean())\n",
    "# 对舒张压特征进行编码\n",
    "# 采取如下规则：\n",
    "# 舒张压<60（低血压）；60<=舒张压<=89（正常）；舒张压>=90（高血压）\n",
    "def pressure(s):\n",
    "    if s < 60:\n",
    "        return 1\n",
    "    elif 60 <= s <= 89:\n",
    "        return 2\n",
    "    else:\n",
    "        return 3\n",
    "full['舒张压'] = full['舒张压'].map(pressure)\n",
    "full.head()"
   ]
  },
  {
   "cell_type": "code",
   "execution_count": 30,
   "id": "c15fc772",
   "metadata": {},
   "outputs": [],
   "source": [
    "# # 处理口服耐糖量测试的数据\n",
    "# # 因为数据集中有-1，0这样的异常数据，需要修改.-1共有16个，0共有两个\n",
    "# sum = full['口服耐糖量测试'].sum() + 16\n",
    "# mean = sum / full.shape[0]\n",
    "# mean = round(mean,3)\n",
    "# full['口服耐糖量测试'] = full['口服耐糖量测试'].replace([-1, 0], [mean, mean])"
   ]
  },
  {
   "cell_type": "code",
   "execution_count": 31,
   "id": "27e17cca",
   "metadata": {},
   "outputs": [
    {
     "data": {
      "text/html": [
       "<div>\n",
       "<style scoped>\n",
       "    .dataframe tbody tr th:only-of-type {\n",
       "        vertical-align: middle;\n",
       "    }\n",
       "\n",
       "    .dataframe tbody tr th {\n",
       "        vertical-align: top;\n",
       "    }\n",
       "\n",
       "    .dataframe thead th {\n",
       "        text-align: right;\n",
       "    }\n",
       "</style>\n",
       "<table border=\"1\" class=\"dataframe\">\n",
       "  <thead>\n",
       "    <tr style=\"text-align: right;\">\n",
       "      <th></th>\n",
       "      <th>编号</th>\n",
       "      <th>性别</th>\n",
       "      <th>体重指数</th>\n",
       "      <th>糖尿病家族史</th>\n",
       "      <th>舒张压</th>\n",
       "      <th>口服耐糖量测试</th>\n",
       "      <th>胰岛素释放实验</th>\n",
       "      <th>肱三头肌皮褶厚度</th>\n",
       "      <th>患有糖尿病标识</th>\n",
       "      <th>年龄</th>\n",
       "    </tr>\n",
       "  </thead>\n",
       "  <tbody>\n",
       "    <tr>\n",
       "      <th>0</th>\n",
       "      <td>1</td>\n",
       "      <td>0</td>\n",
       "      <td>5</td>\n",
       "      <td>1</td>\n",
       "      <td>3</td>\n",
       "      <td>2</td>\n",
       "      <td>7.89</td>\n",
       "      <td>0.0</td>\n",
       "      <td>0.0</td>\n",
       "      <td>26</td>\n",
       "    </tr>\n",
       "    <tr>\n",
       "      <th>1</th>\n",
       "      <td>3</td>\n",
       "      <td>1</td>\n",
       "      <td>5</td>\n",
       "      <td>1</td>\n",
       "      <td>2</td>\n",
       "      <td>2</td>\n",
       "      <td>0.00</td>\n",
       "      <td>40.1</td>\n",
       "      <td>1.0</td>\n",
       "      <td>34</td>\n",
       "    </tr>\n",
       "    <tr>\n",
       "      <th>2</th>\n",
       "      <td>4</td>\n",
       "      <td>1</td>\n",
       "      <td>4</td>\n",
       "      <td>1</td>\n",
       "      <td>3</td>\n",
       "      <td>2</td>\n",
       "      <td>0.00</td>\n",
       "      <td>0.0</td>\n",
       "      <td>0.0</td>\n",
       "      <td>30</td>\n",
       "    </tr>\n",
       "    <tr>\n",
       "      <th>3</th>\n",
       "      <td>5</td>\n",
       "      <td>0</td>\n",
       "      <td>6</td>\n",
       "      <td>2</td>\n",
       "      <td>2</td>\n",
       "      <td>2</td>\n",
       "      <td>0.00</td>\n",
       "      <td>0.0</td>\n",
       "      <td>1.0</td>\n",
       "      <td>24</td>\n",
       "    </tr>\n",
       "    <tr>\n",
       "      <th>4</th>\n",
       "      <td>6</td>\n",
       "      <td>1</td>\n",
       "      <td>4</td>\n",
       "      <td>1</td>\n",
       "      <td>2</td>\n",
       "      <td>2</td>\n",
       "      <td>0.00</td>\n",
       "      <td>0.0</td>\n",
       "      <td>0.0</td>\n",
       "      <td>32</td>\n",
       "    </tr>\n",
       "  </tbody>\n",
       "</table>\n",
       "</div>"
      ],
      "text/plain": [
       "   编号  性别  体重指数  糖尿病家族史  舒张压  口服耐糖量测试  胰岛素释放实验  肱三头肌皮褶厚度  患有糖尿病标识  年龄\n",
       "0   1   0     5       1    3        2     7.89       0.0      0.0  26\n",
       "1   3   1     5       1    2        2     0.00      40.1      1.0  34\n",
       "2   4   1     4       1    3        2     0.00       0.0      0.0  30\n",
       "3   5   0     6       2    2        2     0.00       0.0      1.0  24\n",
       "4   6   1     4       1    2        2     0.00       0.0      0.0  32"
      ]
     },
     "execution_count": 31,
     "metadata": {},
     "output_type": "execute_result"
    }
   ],
   "source": [
    "# 对口服耐糖量测试特征进行编码\n",
    "# 采取如下规则：\n",
    "# 血糖值<3.8（低血糖）；3.8<=血糖值<7.8（正常）；7.8<=血糖值<11（血糖受损或异常）；11<=血糖值（考虑为糖尿病）\n",
    "def sugar(s):\n",
    "    if s < 3.8:\n",
    "        return 1\n",
    "    elif 3.8 <= s < 7.8:\n",
    "        return 2\n",
    "    elif 7.8<= s < 11:\n",
    "        return 3\n",
    "    else:\n",
    "        return 4\n",
    "full['口服耐糖量测试'] = full['口服耐糖量测试'].map(sugar)\n",
    "full.head()"
   ]
  },
  {
   "cell_type": "code",
   "execution_count": 32,
   "id": "112d74d2",
   "metadata": {},
   "outputs": [
    {
     "data": {
      "text/plain": [
       "[{'K': 1, 'RMSE': 12.54998553369912},\n",
       " {'K': 3, 'RMSE': 11.162229438418954},\n",
       " {'K': 5, 'RMSE': 10.997330379238411},\n",
       " {'K': 7, 'RMSE': 10.780851148932316},\n",
       " {'K': 9, 'RMSE': 10.72299875398763},\n",
       " {'K': 11, 'RMSE': 10.699104155883765},\n",
       " {'K': 13, 'RMSE': 10.666807608065206},\n",
       " {'K': 15, 'RMSE': 10.683517554547645},\n",
       " {'K': 17, 'RMSE': 10.683145480420634},\n",
       " {'K': 19, 'RMSE': 10.646974528430484}]"
      ]
     },
     "execution_count": 32,
     "metadata": {},
     "output_type": "execute_result"
    }
   ],
   "source": [
    "# 对胰岛素释放实验进行特征处理\n",
    "# 将大量为0的异常值进行处理\n",
    "full.iloc[full[full['胰岛素释放实验'] == 0].index, 6] = np.nan\n",
    "# 采取KNN归因\n",
    "# 先找到最优的k值\n",
    "from sklearn.impute import KNNImputer\n",
    "from sklearn.model_selection import train_test_split\n",
    "from sklearn.ensemble import RandomForestRegressor\n",
    "from sklearn.metrics import mean_squared_error\n",
    "rmse = lambda y, yhat: np.sqrt(mean_squared_error(y, yhat))\n",
    "def optimize_k(data, target, columns):\n",
    "    \"\"\"\n",
    "    1.使用当前的K值执行插补\n",
    "    2.将数据集分为训练和测试子集\n",
    "    3.拟合随机森林模型\n",
    "    4.预测测试集\n",
    "    5.使用RMSE进行评估\n",
    "    :param data:\n",
    "    :param target:\n",
    "    :return:\n",
    "    \"\"\"\n",
    "    errors = []\n",
    "    for k in range(1, 20, 2):\n",
    "        imputer = KNNImputer(n_neighbors=k)\n",
    "        imputed = imputer.fit_transform(data)\n",
    "        # df_imputed = pd.DataFrame(imputed, columns=['性别', '体重指数', '糖尿病家族史', '舒张压', '口服耐糖量测试', '胰岛素释放实验'])\n",
    "        df_imputed = pd.DataFrame(imputed, columns=columns)\n",
    "\n",
    "        X = df_imputed.drop(target, axis=1)\n",
    "        y = df_imputed[target]\n",
    "        X_train, X_test, y_train, y_test = train_test_split(X, y, test_size=0.2, random_state=42)\n",
    "\n",
    "        model = RandomForestRegressor()\n",
    "        model.fit(X_train, y_train)\n",
    "        preds = model.predict(X_test)\n",
    "        error = rmse(y_test, preds)\n",
    "        errors.append({'K': k, 'RMSE': error})\n",
    "    return errors\n",
    "columns1 = ['性别', '体重指数', '糖尿病家族史', '舒张压', '口服耐糖量测试', '胰岛素释放实验']\n",
    "k_errors1 = optimize_k(data=full[columns1], target='胰岛素释放实验', columns=columns1)\n",
    "k_errors1"
   ]
  },
  {
   "cell_type": "code",
   "execution_count": 45,
   "id": "062cb7d8",
   "metadata": {},
   "outputs": [
    {
     "data": {
      "text/html": [
       "<div>\n",
       "<style scoped>\n",
       "    .dataframe tbody tr th:only-of-type {\n",
       "        vertical-align: middle;\n",
       "    }\n",
       "\n",
       "    .dataframe tbody tr th {\n",
       "        vertical-align: top;\n",
       "    }\n",
       "\n",
       "    .dataframe thead th {\n",
       "        text-align: right;\n",
       "    }\n",
       "</style>\n",
       "<table border=\"1\" class=\"dataframe\">\n",
       "  <thead>\n",
       "    <tr style=\"text-align: right;\">\n",
       "      <th></th>\n",
       "      <th>编号</th>\n",
       "      <th>性别</th>\n",
       "      <th>体重指数</th>\n",
       "      <th>糖尿病家族史</th>\n",
       "      <th>舒张压</th>\n",
       "      <th>口服耐糖量测试</th>\n",
       "      <th>胰岛素释放实验</th>\n",
       "      <th>肱三头肌皮褶厚度</th>\n",
       "      <th>患有糖尿病标识</th>\n",
       "      <th>年龄</th>\n",
       "    </tr>\n",
       "  </thead>\n",
       "  <tbody>\n",
       "    <tr>\n",
       "      <th>0</th>\n",
       "      <td>1</td>\n",
       "      <td>0</td>\n",
       "      <td>5</td>\n",
       "      <td>1</td>\n",
       "      <td>3</td>\n",
       "      <td>2</td>\n",
       "      <td>7.89</td>\n",
       "      <td>0.0</td>\n",
       "      <td>0.0</td>\n",
       "      <td>26</td>\n",
       "    </tr>\n",
       "    <tr>\n",
       "      <th>1</th>\n",
       "      <td>3</td>\n",
       "      <td>1</td>\n",
       "      <td>5</td>\n",
       "      <td>1</td>\n",
       "      <td>2</td>\n",
       "      <td>2</td>\n",
       "      <td>14.92</td>\n",
       "      <td>40.1</td>\n",
       "      <td>1.0</td>\n",
       "      <td>34</td>\n",
       "    </tr>\n",
       "    <tr>\n",
       "      <th>2</th>\n",
       "      <td>4</td>\n",
       "      <td>1</td>\n",
       "      <td>4</td>\n",
       "      <td>1</td>\n",
       "      <td>3</td>\n",
       "      <td>2</td>\n",
       "      <td>19.54</td>\n",
       "      <td>0.0</td>\n",
       "      <td>0.0</td>\n",
       "      <td>30</td>\n",
       "    </tr>\n",
       "    <tr>\n",
       "      <th>3</th>\n",
       "      <td>5</td>\n",
       "      <td>0</td>\n",
       "      <td>6</td>\n",
       "      <td>2</td>\n",
       "      <td>2</td>\n",
       "      <td>2</td>\n",
       "      <td>20.41</td>\n",
       "      <td>0.0</td>\n",
       "      <td>1.0</td>\n",
       "      <td>24</td>\n",
       "    </tr>\n",
       "    <tr>\n",
       "      <th>4</th>\n",
       "      <td>6</td>\n",
       "      <td>1</td>\n",
       "      <td>4</td>\n",
       "      <td>1</td>\n",
       "      <td>2</td>\n",
       "      <td>2</td>\n",
       "      <td>10.02</td>\n",
       "      <td>0.0</td>\n",
       "      <td>0.0</td>\n",
       "      <td>32</td>\n",
       "    </tr>\n",
       "  </tbody>\n",
       "</table>\n",
       "</div>"
      ],
      "text/plain": [
       "   编号  性别  体重指数  糖尿病家族史  舒张压  口服耐糖量测试  胰岛素释放实验  肱三头肌皮褶厚度  患有糖尿病标识  年龄\n",
       "0   1   0     5       1    3        2     7.89       0.0      0.0  26\n",
       "1   3   1     5       1    2        2    14.92      40.1      1.0  34\n",
       "2   4   1     4       1    3        2    19.54       0.0      0.0  30\n",
       "3   5   0     6       2    2        2    20.41       0.0      1.0  24\n",
       "4   6   1     4       1    2        2    10.02       0.0      0.0  32"
      ]
     },
     "execution_count": 45,
     "metadata": {},
     "output_type": "execute_result"
    }
   ],
   "source": [
    "# k=19误差最小\n",
    "imputer = KNNImputer(n_neighbors=19)\n",
    "imputed = imputer.fit_transform(full[columns1])\n",
    "full['胰岛素释放实验'] = imputed[:, 5]\n",
    "full['胰岛素释放实验'] = full['胰岛素释放实验'].map(lambda x: round(x, 2))\n",
    "full.head()"
   ]
  },
  {
   "cell_type": "code",
   "execution_count": 46,
   "id": "b5092060",
   "metadata": {},
   "outputs": [
    {
     "data": {
      "text/plain": [
       "[{'K': 1, 'RMSE': 1.1630999658411594},\n",
       " {'K': 3, 'RMSE': 1.0355433748912741},\n",
       " {'K': 5, 'RMSE': 0.9857198258995241},\n",
       " {'K': 7, 'RMSE': 0.9703955653291481},\n",
       " {'K': 9, 'RMSE': 0.9626853255285295},\n",
       " {'K': 11, 'RMSE': 0.9595163207850553},\n",
       " {'K': 13, 'RMSE': 0.9560852602871615},\n",
       " {'K': 15, 'RMSE': 0.9519773582444185},\n",
       " {'K': 17, 'RMSE': 0.9513772729015554},\n",
       " {'K': 19, 'RMSE': 0.9502500434395438}]"
      ]
     },
     "execution_count": 46,
     "metadata": {},
     "output_type": "execute_result"
    }
   ],
   "source": [
    "# 对肱三头肌皮褶厚度进行特征处理\n",
    "# 因为训练集中该属性单位为mm，测试集中该属性单位为cm\n",
    "full.loc[:4817, '肱三头肌皮褶厚度'] = full.loc[:4817, '肱三头肌皮褶厚度'].map(lambda x: x/10)\n",
    "# 将大量为0的异常值进行处理\n",
    "full.iloc[full[full['肱三头肌皮褶厚度'] == 0].index, 7] = np.nan\n",
    "columns2 = ['性别', '体重指数', '糖尿病家族史', '舒张压', '口服耐糖量测试', '肱三头肌皮褶厚度']\n",
    "k_errors2 = optimize_k(data=full[columns2], target='肱三头肌皮褶厚度', columns=columns2)\n",
    "k_errors2"
   ]
  },
  {
   "cell_type": "code",
   "execution_count": 47,
   "id": "6c7bf8cc",
   "metadata": {},
   "outputs": [
    {
     "data": {
      "text/html": [
       "<div>\n",
       "<style scoped>\n",
       "    .dataframe tbody tr th:only-of-type {\n",
       "        vertical-align: middle;\n",
       "    }\n",
       "\n",
       "    .dataframe tbody tr th {\n",
       "        vertical-align: top;\n",
       "    }\n",
       "\n",
       "    .dataframe thead th {\n",
       "        text-align: right;\n",
       "    }\n",
       "</style>\n",
       "<table border=\"1\" class=\"dataframe\">\n",
       "  <thead>\n",
       "    <tr style=\"text-align: right;\">\n",
       "      <th></th>\n",
       "      <th>编号</th>\n",
       "      <th>性别</th>\n",
       "      <th>体重指数</th>\n",
       "      <th>糖尿病家族史</th>\n",
       "      <th>舒张压</th>\n",
       "      <th>口服耐糖量测试</th>\n",
       "      <th>胰岛素释放实验</th>\n",
       "      <th>肱三头肌皮褶厚度</th>\n",
       "      <th>患有糖尿病标识</th>\n",
       "      <th>年龄</th>\n",
       "    </tr>\n",
       "  </thead>\n",
       "  <tbody>\n",
       "    <tr>\n",
       "      <th>0</th>\n",
       "      <td>1</td>\n",
       "      <td>0</td>\n",
       "      <td>5</td>\n",
       "      <td>1</td>\n",
       "      <td>3</td>\n",
       "      <td>2</td>\n",
       "      <td>7.89</td>\n",
       "      <td>2.60</td>\n",
       "      <td>0.0</td>\n",
       "      <td>26</td>\n",
       "    </tr>\n",
       "    <tr>\n",
       "      <th>1</th>\n",
       "      <td>3</td>\n",
       "      <td>1</td>\n",
       "      <td>5</td>\n",
       "      <td>1</td>\n",
       "      <td>2</td>\n",
       "      <td>2</td>\n",
       "      <td>14.92</td>\n",
       "      <td>4.01</td>\n",
       "      <td>1.0</td>\n",
       "      <td>34</td>\n",
       "    </tr>\n",
       "    <tr>\n",
       "      <th>2</th>\n",
       "      <td>4</td>\n",
       "      <td>1</td>\n",
       "      <td>4</td>\n",
       "      <td>1</td>\n",
       "      <td>3</td>\n",
       "      <td>2</td>\n",
       "      <td>19.54</td>\n",
       "      <td>2.59</td>\n",
       "      <td>0.0</td>\n",
       "      <td>30</td>\n",
       "    </tr>\n",
       "    <tr>\n",
       "      <th>3</th>\n",
       "      <td>5</td>\n",
       "      <td>0</td>\n",
       "      <td>6</td>\n",
       "      <td>2</td>\n",
       "      <td>2</td>\n",
       "      <td>2</td>\n",
       "      <td>20.41</td>\n",
       "      <td>3.01</td>\n",
       "      <td>1.0</td>\n",
       "      <td>24</td>\n",
       "    </tr>\n",
       "    <tr>\n",
       "      <th>4</th>\n",
       "      <td>6</td>\n",
       "      <td>1</td>\n",
       "      <td>4</td>\n",
       "      <td>1</td>\n",
       "      <td>2</td>\n",
       "      <td>2</td>\n",
       "      <td>10.02</td>\n",
       "      <td>2.48</td>\n",
       "      <td>0.0</td>\n",
       "      <td>32</td>\n",
       "    </tr>\n",
       "  </tbody>\n",
       "</table>\n",
       "</div>"
      ],
      "text/plain": [
       "   编号  性别  体重指数  糖尿病家族史  舒张压  口服耐糖量测试  胰岛素释放实验  肱三头肌皮褶厚度  患有糖尿病标识  年龄\n",
       "0   1   0     5       1    3        2     7.89      2.60      0.0  26\n",
       "1   3   1     5       1    2        2    14.92      4.01      1.0  34\n",
       "2   4   1     4       1    3        2    19.54      2.59      0.0  30\n",
       "3   5   0     6       2    2        2    20.41      3.01      1.0  24\n",
       "4   6   1     4       1    2        2    10.02      2.48      0.0  32"
      ]
     },
     "execution_count": 47,
     "metadata": {},
     "output_type": "execute_result"
    }
   ],
   "source": [
    "# k=19误差最小\n",
    "imputer = KNNImputer(n_neighbors=17)\n",
    "imputed = imputer.fit_transform(full[columns2])\n",
    "full['肱三头肌皮褶厚度'] = imputed[:, 5]\n",
    "full['肱三头肌皮褶厚度'] = full['肱三头肌皮褶厚度'].map(lambda x: round(x, 2))\n",
    "full.head()"
   ]
  },
  {
   "cell_type": "code",
   "execution_count": 48,
   "id": "6cb948d0",
   "metadata": {},
   "outputs": [
    {
     "data": {
      "text/html": [
       "<div>\n",
       "<style scoped>\n",
       "    .dataframe tbody tr th:only-of-type {\n",
       "        vertical-align: middle;\n",
       "    }\n",
       "\n",
       "    .dataframe tbody tr th {\n",
       "        vertical-align: top;\n",
       "    }\n",
       "\n",
       "    .dataframe thead th {\n",
       "        text-align: right;\n",
       "    }\n",
       "</style>\n",
       "<table border=\"1\" class=\"dataframe\">\n",
       "  <thead>\n",
       "    <tr style=\"text-align: right;\">\n",
       "      <th></th>\n",
       "      <th>编号</th>\n",
       "      <th>性别</th>\n",
       "      <th>体重指数</th>\n",
       "      <th>糖尿病家族史</th>\n",
       "      <th>舒张压</th>\n",
       "      <th>口服耐糖量测试</th>\n",
       "      <th>胰岛素释放实验</th>\n",
       "      <th>肱三头肌皮褶厚度</th>\n",
       "      <th>患有糖尿病标识</th>\n",
       "      <th>年龄</th>\n",
       "    </tr>\n",
       "  </thead>\n",
       "  <tbody>\n",
       "    <tr>\n",
       "      <th>0</th>\n",
       "      <td>1</td>\n",
       "      <td>0</td>\n",
       "      <td>5</td>\n",
       "      <td>1</td>\n",
       "      <td>3</td>\n",
       "      <td>2</td>\n",
       "      <td>7.89</td>\n",
       "      <td>2.60</td>\n",
       "      <td>0.0</td>\n",
       "      <td>2</td>\n",
       "    </tr>\n",
       "    <tr>\n",
       "      <th>1</th>\n",
       "      <td>3</td>\n",
       "      <td>1</td>\n",
       "      <td>5</td>\n",
       "      <td>1</td>\n",
       "      <td>2</td>\n",
       "      <td>2</td>\n",
       "      <td>14.92</td>\n",
       "      <td>4.01</td>\n",
       "      <td>1.0</td>\n",
       "      <td>3</td>\n",
       "    </tr>\n",
       "    <tr>\n",
       "      <th>2</th>\n",
       "      <td>4</td>\n",
       "      <td>1</td>\n",
       "      <td>4</td>\n",
       "      <td>1</td>\n",
       "      <td>3</td>\n",
       "      <td>2</td>\n",
       "      <td>19.54</td>\n",
       "      <td>2.59</td>\n",
       "      <td>0.0</td>\n",
       "      <td>2</td>\n",
       "    </tr>\n",
       "    <tr>\n",
       "      <th>3</th>\n",
       "      <td>5</td>\n",
       "      <td>0</td>\n",
       "      <td>6</td>\n",
       "      <td>2</td>\n",
       "      <td>2</td>\n",
       "      <td>2</td>\n",
       "      <td>20.41</td>\n",
       "      <td>3.01</td>\n",
       "      <td>1.0</td>\n",
       "      <td>2</td>\n",
       "    </tr>\n",
       "    <tr>\n",
       "      <th>4</th>\n",
       "      <td>6</td>\n",
       "      <td>1</td>\n",
       "      <td>4</td>\n",
       "      <td>1</td>\n",
       "      <td>2</td>\n",
       "      <td>2</td>\n",
       "      <td>10.02</td>\n",
       "      <td>2.48</td>\n",
       "      <td>0.0</td>\n",
       "      <td>3</td>\n",
       "    </tr>\n",
       "  </tbody>\n",
       "</table>\n",
       "</div>"
      ],
      "text/plain": [
       "   编号  性别  体重指数  糖尿病家族史  舒张压  口服耐糖量测试  胰岛素释放实验  肱三头肌皮褶厚度  患有糖尿病标识  年龄\n",
       "0   1   0     5       1    3        2     7.89      2.60      0.0   2\n",
       "1   3   1     5       1    2        2    14.92      4.01      1.0   3\n",
       "2   4   1     4       1    3        2    19.54      2.59      0.0   2\n",
       "3   5   0     6       2    2        2    20.41      3.01      1.0   2\n",
       "4   6   1     4       1    2        2    10.02      2.48      0.0   3"
      ]
     },
     "execution_count": 48,
     "metadata": {},
     "output_type": "execute_result"
    }
   ],
   "source": [
    "# 对年龄进行分类\n",
    "def age(s):\n",
    "    if s <= 18:\n",
    "        return 1\n",
    "    elif 19 <= s <= 30:\n",
    "        return 2\n",
    "    elif 31 <= s <= 50:\n",
    "        return 3\n",
    "    else:\n",
    "        return 4\n",
    "full['年龄'] = full['年龄'].map(age)\n",
    "full.head()"
   ]
  },
  {
   "cell_type": "code",
   "execution_count": 49,
   "id": "a6a5d892",
   "metadata": {},
   "outputs": [],
   "source": [
    "full.drop(['编号', '患有糖尿病标识'], axis=1, inplace=True)"
   ]
  },
  {
   "cell_type": "code",
   "execution_count": 50,
   "id": "62484bed",
   "metadata": {},
   "outputs": [
    {
     "name": "stdout",
     "output_type": "stream",
     "text": [
      "<class 'pandas.core.frame.DataFrame'>\n",
      "RangeIndex: 8818 entries, 0 to 8817\n",
      "Data columns (total 8 columns):\n",
      " #   Column    Non-Null Count  Dtype  \n",
      "---  ------    --------------  -----  \n",
      " 0   性别        8818 non-null   int64  \n",
      " 1   体重指数      8818 non-null   int64  \n",
      " 2   糖尿病家族史    8818 non-null   int64  \n",
      " 3   舒张压       8818 non-null   int64  \n",
      " 4   口服耐糖量测试   8818 non-null   int64  \n",
      " 5   胰岛素释放实验   8818 non-null   float64\n",
      " 6   肱三头肌皮褶厚度  8818 non-null   float64\n",
      " 7   年龄        8818 non-null   int64  \n",
      "dtypes: float64(2), int64(6)\n",
      "memory usage: 551.2 KB\n"
     ]
    }
   ],
   "source": [
    "full.info()"
   ]
  },
  {
   "cell_type": "code",
   "execution_count": 55,
   "id": "96a31203",
   "metadata": {},
   "outputs": [],
   "source": [
    "# 将数值变量标准化\n",
    "means = full.loc[:, :].mean()\n",
    "std = full.loc[:, :].std()\n",
    "full.loc[:, :] = (full.loc[:, :] - means)/std"
   ]
  },
  {
   "cell_type": "code",
   "execution_count": 56,
   "id": "05d00893",
   "metadata": {},
   "outputs": [
    {
     "name": "stdout",
     "output_type": "stream",
     "text": [
      "原始数据集特征： (4818, 8) 训练数据集特征： (3854, 8) 测试数据集特征： (964, 8)\n",
      "原始数据集标签： (4818,) 训练数据集标签： (3854,) 测试数据集标签： (964,)\n"
     ]
    }
   ],
   "source": [
    "# 建立训练数据集和测试数据集\n",
    "from sklearn.model_selection import train_test_split\n",
    "source_X = full.loc[0:4817, :]\n",
    "source_y = train_data.loc[0:4817, '患有糖尿病标识']\n",
    "pred_X = full.loc[4818:, :]\n",
    "train_X, test_X, train_y, test_y = train_test_split(source_X, source_y, train_size=0.8, random_state=0)\n",
    "print('原始数据集特征：', source_X.shape, '训练数据集特征：', train_X.shape, '测试数据集特征：', test_X.shape)\n",
    "print('原始数据集标签：', source_y.shape, '训练数据集标签：', train_y.shape, '测试数据集标签：', test_y.shape)"
   ]
  },
  {
   "cell_type": "code",
   "execution_count": 57,
   "id": "75955622",
   "metadata": {},
   "outputs": [
    {
     "name": "stdout",
     "output_type": "stream",
     "text": [
      "best parameters: {'max_depth': 7, 'min_samples_leaf': 4, 'n_estimators': 50}\n"
     ]
    }
   ],
   "source": [
    "# 随机森林\n",
    "from sklearn.ensemble import RandomForestClassifier\n",
    "from sklearn.model_selection import GridSearchCV\n",
    "rfc=RandomForestClassifier(random_state=0)\n",
    "params={'n_estimators':[50,100,150,200,250],'max_depth':[1,3,5,7,9,11,13,15,17,19],'min_samples_leaf':[2,4,6]}\n",
    "best_model=GridSearchCV(rfc,param_grid=params,refit=True,cv=5).fit(train_X, train_y)\n",
    "print('best parameters:',best_model.best_params_)"
   ]
  },
  {
   "cell_type": "code",
   "execution_count": 58,
   "id": "8cf3cba6",
   "metadata": {},
   "outputs": [
    {
     "data": {
      "text/plain": [
       "0.770746887966805"
      ]
     },
     "execution_count": 58,
     "metadata": {},
     "output_type": "execute_result"
    }
   ],
   "source": [
    "from sklearn.pipeline import make_pipeline\n",
    "from sklearn.preprocessing import MinMaxScaler\n",
    "model = make_pipeline(\n",
    "    # MinMaxScaler(),\n",
    "    RandomForestClassifier(max_depth=7, min_samples_leaf=4, n_estimators=50)\n",
    ")\n",
    "model.fit(train_X, train_y)\n",
    "y_pred = model.predict(pred_X)\n",
    "model.score(test_X, test_y)"
   ]
  },
  {
   "cell_type": "code",
   "execution_count": 59,
   "id": "6e0d61c3",
   "metadata": {},
   "outputs": [],
   "source": [
    "y_pred = model.predict(pred_X)\n",
    "uuid = (i+1 for i in np.arange(4000))\n",
    "label = y_pred.astype(int)\n",
    "pred_df = pd.DataFrame({\n",
    "    'uuid': uuid,\n",
    "    'label': y_pred\n",
    "})"
   ]
  },
  {
   "cell_type": "code",
   "execution_count": 60,
   "id": "cc29c885",
   "metadata": {},
   "outputs": [],
   "source": [
    "# 保存结果\n",
    "pred_df.to_csv('E:/DocumentFile/data/糖尿病遗传风险预测挑战赛公开数据/预测结果.csv', index=False)"
   ]
  },
  {
   "cell_type": "code",
   "execution_count": null,
   "id": "f6fc18d0",
   "metadata": {},
   "outputs": [],
   "source": []
  }
 ],
 "metadata": {
  "kernelspec": {
   "display_name": "Python 3 (ipykernel)",
   "language": "python",
   "name": "python3"
  },
  "language_info": {
   "codemirror_mode": {
    "name": "ipython",
    "version": 3
   },
   "file_extension": ".py",
   "mimetype": "text/x-python",
   "name": "python",
   "nbconvert_exporter": "python",
   "pygments_lexer": "ipython3",
   "version": "3.9.7"
  }
 },
 "nbformat": 4,
 "nbformat_minor": 5
}
